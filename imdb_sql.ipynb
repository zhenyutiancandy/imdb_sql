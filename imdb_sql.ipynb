{
 "cells": [
  {
   "cell_type": "code",
   "execution_count": 7,
   "id": "822cf816",
   "metadata": {},
   "outputs": [
    {
     "name": "stdout",
     "output_type": "stream",
     "text": [
      "                                              review split     label  \\\n",
      "0  Once again Mr. Costner has dragged out a movie...  test  Negative   \n",
      "1  This is an example of why the majority of acti...  test  Negative   \n",
      "2  First of all I hate those moronic rappers, who...  test  Negative   \n",
      "3  Not even the Beatles could write songs everyon...  test  Negative   \n",
      "4  Brass pictures (movies is not a fitting word f...  test  Negative   \n",
      "5  A funny thing happened to me while watching \"M...  test  Negative   \n",
      "6  This German horror film has to be one of the w...  test  Negative   \n",
      "7  Being a long-time fan of Japanese film, I expe...  test  Negative   \n",
      "8  \"Tokyo Eyes\" tells of a 17 year old Japanese g...  test  Negative   \n",
      "9  Wealthy horse ranchers in Buenos Aires have a ...  test  Negative   \n",
      "\n",
      "    movie_id  reviewer_rating                             movie_url  \\\n",
      "0  tt0406816                2  http://www.imdb.com/title/tt0406816/   \n",
      "1  tt0105636                4  http://www.imdb.com/title/tt0105636/   \n",
      "2  tt0105636                1  http://www.imdb.com/title/tt0105636/   \n",
      "3  tt0105636                3  http://www.imdb.com/title/tt0105636/   \n",
      "4  tt0267261                3  http://www.imdb.com/title/tt0267261/   \n",
      "5  tt0074920                2  http://www.imdb.com/title/tt0074920/   \n",
      "6  tt0074920                2  http://www.imdb.com/title/tt0074920/   \n",
      "7  tt0157117                2  http://www.imdb.com/title/tt0157117/   \n",
      "8  tt0157117                4  http://www.imdb.com/title/tt0157117/   \n",
      "9  tt0032410                4  http://www.imdb.com/title/tt0032410/   \n",
      "\n",
      "                title  \n",
      "0        The Guardian  \n",
      "1            Trespass  \n",
      "2            Trespass  \n",
      "3            Trespass  \n",
      "4         Black Angel  \n",
      "5           Bloodlust  \n",
      "6           Bloodlust  \n",
      "7          Tokyo Eyes  \n",
      "8          Tokyo Eyes  \n",
      "9  Down Argentine Way  \n"
     ]
    }
   ],
   "source": [
    " from google.cloud import bigquery\n",
    " from google.oauth2 import service_account\n",
    " import pandas as pd\n",
    "\n",
    " # 🔐 Path to your service account key\n",
    " SERVICE_ACCOUNT_FILE = \"gothic-well-464310-i6-18eef1365e24.json\"\n",
    "\n",
    " # 📁 Your GCP project ID\n",
    " PROJECT_ID = \"gothic-well-464310-i6\"\n",
    "\n",
    " # 🧾 Create credentials and client\n",
    " credentials = service_account.Credentials.from_service_account_file(\n",
    "     SERVICE_ACCOUNT_FILE\n",
    " )\n",
    " client = bigquery.Client(credentials=credentials, project=PROJECT_ID)\n",
    "\n",
    " # 🔍 Example SQL query\n",
    " query = \"\"\"\n",
    "     SELECT * \n",
    "     FROM `gothic-well-464310-i6.imdb.reviews` \n",
    "     LIMIT 10\n",
    " \"\"\"\n",
    "\n",
    " # 🚀 Run query and convert to DataFrame\n",
    " df = client.query(query).to_dataframe()\n",
    "\n",
    " # 🖨️ Print the DataFrame\n",
    " print(df)"
   ]
  },
  {
   "cell_type": "code",
   "execution_count": 19,
   "id": "c9b7f32d-1020-4efe-ae72-b7f5ac78c67a",
   "metadata": {},
   "outputs": [
    {
     "name": "stdout",
     "output_type": "stream",
     "text": [
      "      tconst  average_rating  num_votes\n",
      "0  tt0000024             3.7        165\n",
      "1  tt0000025             4.1         51\n",
      "2  tt0000036             4.4        657\n",
      "3  tt0000037             4.4         79\n",
      "4  tt0000038             4.1        237\n",
      "5  tt0000040             4.2         81\n",
      "6  tt0000044             4.0         55\n",
      "7  tt0000052             4.1        125\n",
      "8  tt0000076             4.4        588\n",
      "9  tt0000078             3.5        113\n"
     ]
    }
   ],
   "source": [
    "# 构造一个只取前 10 行的查询\n",
    "query = \"\"\"\n",
    "SELECT\n",
    "  *\n",
    "FROM `gothic-well-464310-i6.imdb.title_ratings`\n",
    "LIMIT 10\n",
    "\"\"\"\n",
    "\n",
    "# 执行并转成 DataFrame\n",
    "df_sample = client.query(query).to_dataframe()\n",
    "\n",
    "# 直接打印\n",
    "print(df_sample)\n"
   ]
  },
  {
   "cell_type": "code",
   "execution_count": 32,
   "id": "aabcac51-faf6-473d-a073-cbdc0aee496a",
   "metadata": {},
   "outputs": [],
   "source": [
    "# # 构造一个只取前 10 行的查询\n",
    "# query = \"\"\"\n",
    "# SELECT\n",
    "#   *\n",
    "# FROM `gothic-well-464310-i6.imdb.title_basics`\n",
    "# LIMIT 10\n",
    "# \"\"\"\n",
    "\n",
    "# # 执行并转成 DataFrame\n",
    "# df_sample = client.query(query).to_dataframe()\n",
    "\n",
    "# # 直接打印\n",
    "# print(df_sample)"
   ]
  },
  {
   "cell_type": "markdown",
   "id": "f2788565-0ae9-4283-a287-a0f9cfab74c7",
   "metadata": {},
   "source": [
    "Movie Performance Analytics\n",
    "Use Case: Identify top-performing movies or TV shows based on user ratings.\n",
    "Example Questions:\n",
    "What are the top 10 highest-rated movies of all time with more than 10,000 votes?\n",
    "Which genres have the highest average ratings over the past decade?"
   ]
  },
  {
   "cell_type": "code",
   "execution_count": 18,
   "id": "2cd41773-cf63-4be6-80a5-ffe1fe4a9302",
   "metadata": {
    "scrolled": true
   },
   "outputs": [
    {
     "name": "stdout",
     "output_type": "stream",
     "text": [
      "Top 10 highest‑rated movies (votes > 10,000):\n",
      "       tconst  average_rating  num_votes\n",
      "0   tt2301451            10.0     253502\n",
      "1  tt21151974             9.9      40423\n",
      "2   tt2178784             9.9     131880\n",
      "3  tt11028174             9.9      26266\n",
      "4  tt12187040             9.9      66299\n",
      "5   tt2301455             9.9     161476\n",
      "6   tt0701989             9.9      14288\n",
      "7   tt1683088             9.9      87686\n",
      "8   tt1204265             9.9      20433\n",
      "9  tt11294360             9.9      25024\n"
     ]
    }
   ],
   "source": [
    "# 1. 查询：历史上评分最高且投票数超过 10,000 的前 10 部电影\n",
    "query_top10 = \"\"\"\n",
    "SELECT\n",
    "  *\n",
    "FROM `gothic-well-464310-i6.imdb.title_ratings`\n",
    "WHERE\n",
    "  num_votes > 10000\n",
    "ORDER BY\n",
    "  average_rating DESC\n",
    "LIMIT 10\n",
    "\"\"\"\n",
    "\n",
    "df_top10 = client.query(query_top10).to_dataframe()\n",
    "print(\"Top 10 highest‑rated movies (votes > 10,000):\")\n",
    "print(df_top10)\n"
   ]
  },
  {
   "cell_type": "code",
   "execution_count": 27,
   "id": "532028dd-b82c-494d-be43-cbe0204c2066",
   "metadata": {},
   "outputs": [],
   "source": [
    "# top_genres = f\"\"\"\n",
    "# SELECT\n",
    "#   tb.title_type AS title,\n",
    "#   tr.average_rating AS rating,\n",
    "#   tr.num_votes AS votes\n",
    "# FROM `gothic-well-464310-i6.imdb.title_ratings` AS tr\n",
    "# JOIN `gothic-well-464310-i6.imdb.title_basics`  AS tb\n",
    "#   ON tr.tconst = tb.tconst\n",
    "# WHERE\n",
    "#   tr.num_votes > 10000\n",
    "# ORDER BY\n",
    "#   tr.average_rating DESC\n",
    "# LIMIT 1\n",
    "# \"\"\"\n",
    "\n",
    "# top_genres = client.query(top_genres).to_dataframe()\n",
    "# print(top_genres)"
   ]
  },
  {
   "cell_type": "code",
   "execution_count": 28,
   "id": "da00f335-2366-4d50-bd51-94c528134647",
   "metadata": {},
   "outputs": [
    {
     "name": "stdout",
     "output_type": "stream",
     "text": [
      "  title_type\n",
      "0  tvEpisode\n"
     ]
    }
   ],
   "source": [
    "top_genres = f\"\"\"\n",
    "SELECT\n",
    "  tb.title_type\n",
    "FROM `gothic-well-464310-i6.imdb.title_ratings` AS tr\n",
    "JOIN `gothic-well-464310-i6.imdb.title_basics`  AS tb\n",
    "  ON tr.tconst = tb.tconst\n",
    "WHERE\n",
    "  tr.num_votes > 10000\n",
    "ORDER BY\n",
    "  tr.average_rating DESC\n",
    "LIMIT 1\n",
    "\"\"\"\n",
    "\n",
    "top_genres = client.query(top_genres).to_dataframe()\n",
    "print(top_genres)"
   ]
  },
  {
   "cell_type": "markdown",
   "id": "55595afb-024f-42d4-8abd-38f01e7713ce",
   "metadata": {},
   "source": [
    "Talent & Cast Insights\n",
    "Use Case: Analyze the careers and contributions of actors, directors, and writers.\n",
    "Example Questions:\n",
    "Which actor has appeared in the highest number of top-rated movies?\n",
    "Which directors consistently produce highly-rated content?\n",
    "Who are the most prolific actors in a specific genre (e.g., comedy)?\n",
    "\n",
    "哪位演员在评分最高的电影中出演次数最多？\n",
    "\n",
    "哪些导演持续制作高评分的作品？\n",
    "\n",
    "在特定类型（例如喜剧）中，哪些演员作品产出最多？"
   ]
  },
  {
   "cell_type": "code",
   "execution_count": 43,
   "id": "b36b7faf-1672-4625-84f6-99e55fa86970",
   "metadata": {},
   "outputs": [],
   "source": [
    "# # 构造一个只取前 10 行的查询\n",
    "# query = \"\"\"\n",
    "# SELECT\n",
    "#   *\n",
    "# FROM `gothic-well-464310-i6.imdb.title_ratings`\n",
    "# LIMIT 10\n",
    "# \"\"\"\n",
    "\n",
    "# # 执行并转成 DataFrame\n",
    "# df_sample = client.query(query).to_dataframe()\n",
    "\n",
    "# # 直接打印\n",
    "# print(df_sample)"
   ]
  },
  {
   "cell_type": "code",
   "execution_count": 42,
   "id": "4799c345-f9f9-4991-9c79-a40494e2b09e",
   "metadata": {
    "scrolled": true
   },
   "outputs": [],
   "source": [
    "# # 构造一个只取前 10 行的查询\n",
    "# query = \"\"\"\n",
    "# SELECT\n",
    "#   *\n",
    "# FROM `gothic-well-464310-i6.imdb.name_basics`\n",
    "# LIMIT 10\n",
    "# \"\"\"\n",
    "\n",
    "# # 执行并转成 DataFrame\n",
    "# df_sample = client.query(query).to_dataframe()\n",
    "\n",
    "# # 直接打印\n",
    "# print(df_sample)"
   ]
  },
  {
   "cell_type": "code",
   "execution_count": 41,
   "id": "1b77bd7c-e490-47ba-9a84-7eba8f80e896",
   "metadata": {},
   "outputs": [],
   "source": [
    "# # 构造一个只取前 10 行的查询\n",
    "# query = \"\"\"\n",
    "# SELECT\n",
    "#   *\n",
    "# FROM `gothic-well-464310-i6.imdb.title_principals`\n",
    "# LIMIT 10\n",
    "# \"\"\"\n",
    "\n",
    "# # 执行并转成 DataFrame\n",
    "# df_sample = client.query(query).to_dataframe()\n",
    "\n",
    "# # 直接打印\n",
    "# print(df_sample)"
   ]
  },
  {
   "cell_type": "code",
   "execution_count": 44,
   "id": "8b2fe081-a6b1-4feb-9d4c-8e317a9e68f4",
   "metadata": {},
   "outputs": [
    {
     "name": "stdout",
     "output_type": "stream",
     "text": [
      "在前 100 部最高评分电影中，出镜次数最多的演员：\n",
      "            actor  appearances\n",
      "0  Sumbul Touqeer           11\n"
     ]
    }
   ],
   "source": [
    "# 先取前 100 部评分最高的电影，再统计演员/女演员出镜次数最多的情况,再对应到人名 打印出来\n",
    "query_top_actor = f\"\"\"\n",
    "SELECT\n",
    "  nb.primary_name   AS actor,\n",
    "  COUNT(*)         AS appearances\n",
    "FROM (\n",
    "  SELECT\n",
    "    tconst\n",
    "  FROM `gothic-well-464310-i6.imdb.title_ratings`\n",
    "  ORDER BY\n",
    "    average_rating DESC\n",
    "  LIMIT 100\n",
    ") AS top100\n",
    "JOIN `gothic-well-464310-i6.imdb.title_principals` AS tp\n",
    "  ON top100.tconst = tp.tconst\n",
    "JOIN `gothic-well-464310-i6.imdb.name_basics`    AS nb\n",
    "  ON tp.nconst    = nb.nconst\n",
    "WHERE\n",
    "  tp.category IN ('actor', 'actress')\n",
    "GROUP BY\n",
    "  nb.primary_name\n",
    "ORDER BY\n",
    "  appearances DESC\n",
    "LIMIT 1\n",
    "\"\"\"\n",
    "\n",
    "df_top_actor = client.query(query_top_actor).to_dataframe()\n",
    "print(\"在前 100 部最高评分电影中，出镜次数最多的演员：\")\n",
    "print(df_top_actor)"
   ]
  },
  {
   "cell_type": "code",
   "execution_count": 49,
   "id": "97b5610b-f306-4c37-9c7c-6c02ba5f6847",
   "metadata": {},
   "outputs": [],
   "source": [
    "# query = \"\"\"\n",
    "# SELECT\n",
    "#   d AS director,\n",
    "#   ROUND(AVG(tr.average_rating), 2) AS avg_rating\n",
    "# FROM `bigquery-public-data.imdb.title_crew` AS tc\n",
    "# JOIN `bigquery-public-data.imdb.title_ratings` AS tr\n",
    "#   ON tc.tconst = tr.tconst,\n",
    "#   UNNEST(SPLIT(tc.directors, ',')) AS d\n",
    "# GROUP BY\n",
    "#   director\n",
    "# ORDER BY\n",
    "#   avg_rating DESC\n",
    "# LIMIT 10\n",
    "# \"\"\"\n",
    "\n",
    "# df = client.query(query).to_dataframe()\n",
    "# print(df)"
   ]
  },
  {
   "cell_type": "code",
   "execution_count": 52,
   "id": "d87d44e5-fe14-4454-96b8-bbab64f4ceff",
   "metadata": {},
   "outputs": [],
   "source": [
    "# query = \"\"\"\n",
    "# SELECT\n",
    "#   nb.primary_name    AS director_name,               -- 导演姓名\n",
    "#   ROUND(AVG(tr.average_rating), 2) AS avg_rating    -- 平均评分\n",
    "# FROM `bigquery-public-data.imdb.title_crew`   AS tc\n",
    "# JOIN `bigquery-public-data.imdb.title_ratings` AS tr\n",
    "#   ON tc.tconst = tr.tconst,\n",
    "# UNNEST(SPLIT(tc.directors, ','))            AS d     -- 拆分出的导演 nconst\n",
    "# JOIN `bigquery-public-data.imdb.name_basics` AS nb\n",
    "#   ON nb.nconst = d                               -- 关联到姓名表\n",
    "# GROUP BY\n",
    "#   director_name\n",
    "# ORDER BY\n",
    "#   avg_rating DESC\n",
    "# LIMIT 10\n",
    "# \"\"\"\n",
    "\n",
    "# df = client.query(query).to_dataframe()\n",
    "# print(df)\n"
   ]
  },
  {
   "cell_type": "code",
   "execution_count": 57,
   "id": "c342680e-9dc5-4ce5-b195-d612eb45ac82",
   "metadata": {},
   "outputs": [
    {
     "name": "stdout",
     "output_type": "stream",
     "text": [
      "      director_name  avg_rating\n",
      "0       Will Garber        10.0\n",
      "1       Frank Kiper        10.0\n",
      "2      Wayne Nelson        10.0\n",
      "3       Noha Wassif        10.0\n",
      "4   Brandon Windish        10.0\n",
      "5     Toti Logronio        10.0\n",
      "6       Aaron Singh        10.0\n",
      "7    Guy Hodgkinson        10.0\n",
      "8  Derek G. Turesky        10.0\n",
      "9       Nathan Bell        10.0\n"
     ]
    }
   ],
   "source": [
    "query = \"\"\"\n",
    "SELECT\n",
    "  names.primary_name AS director_name,    -- 导演姓名\n",
    "  ROUND(AVG(ratings.average_rating), 2) AS avg_rating       -- 计算平均 IMDb 评分，保留两位小数\n",
    "FROM `gothic-well-464310-i6.imdb.title_crew`   AS crew\n",
    "CROSS JOIN UNNEST(SPLIT(crew.directors, ',')) AS director_id  -- 拆分导演列表\n",
    "JOIN `gothic-well-464310-i6.imdb.title_ratings` AS ratings\n",
    "  ON crew.tconst = ratings.tconst           -- 把导演作品和评分关联起来\n",
    "JOIN `gothic-well-464310-i6.imdb.name_basics` AS names\n",
    "  ON names.nconst = director_id            -- 把导演 ID 映射成姓名\n",
    "GROUP BY\n",
    "  director_name                            -- 按导演分组\n",
    "ORDER BY\n",
    "  avg_rating DESC                          -- 按平均评分降序排列\n",
    "LIMIT 10                                   -- 只取前 10 名\n",
    "\"\"\"\n",
    "df = client.query(query).to_dataframe()\n",
    "print(df)\n"
   ]
  },
  {
   "cell_type": "code",
   "execution_count": 59,
   "id": "c85dddb1-f1f5-4b92-a4a8-1c41c10332cc",
   "metadata": {},
   "outputs": [],
   "source": [
    "# query = f\"\"\"\n",
    "# WITH actor_genre_counts AS (\n",
    "#   SELECT\n",
    "#     genre,\n",
    "#     nb.primary_name AS actor,\n",
    "#     COUNT(*)        AS appearances\n",
    "#   FROM `bigquery-public-data.imdb.title_basics` AS tb\n",
    "#   CROSS JOIN UNNEST(SPLIT(tb.genres, ',')) AS genre\n",
    "#   JOIN `gothic-well-464310-i6.imdb.title_principals` AS tp\n",
    "#     ON tb.tconst = tp.tconst\n",
    "#   JOIN `gothic-well-464310-i6.imdb.name_basics`    AS nb\n",
    "#     ON tp.nconst = nb.nconst\n",
    "#   WHERE tp.category IN ('actor','actress')\n",
    "#   GROUP BY genre, actor\n",
    "# )\n",
    "# SELECT\n",
    "#   genre,\n",
    "#   actor,\n",
    "#   appearances\n",
    "# FROM (\n",
    "#   SELECT\n",
    "#     *,\n",
    "#     ROW_NUMBER() OVER (\n",
    "#       PARTITION BY genre \n",
    "#       ORDER BY appearances DESC\n",
    "#     ) AS rn\n",
    "#   FROM actor_genre_counts\n",
    "# )\n",
    "# WHERE rn = 1\n",
    "# ORDER BY genre\n",
    "# \"\"\"\n",
    "\n",
    "# # 执行并展示结果\n",
    "# df = client.query(query).to_dataframe()\n",
    "# print(\"每个类型中出镜次数最多的演员：\")\n",
    "# print(df)"
   ]
  },
  {
   "cell_type": "code",
   "execution_count": 62,
   "id": "e9be7962-1793-4aa1-9056-f0fc4e59b23c",
   "metadata": {},
   "outputs": [
    {
     "name": "stdout",
     "output_type": "stream",
     "text": [
      "每个类型中出镜次数最多的演员：\n",
      "          genre               actor  appearances\n",
      "0        Action           Vic Sotto         9974\n",
      "1         Adult          Jim Hunter         4495\n",
      "2     Adventure    Manuela do Monte         7437\n",
      "3     Animation   Dee Bradley Baker         8993\n",
      "4     Biography      Sumit Pusavale         1845\n",
      "5        Comedy           Vic Sotto        10640\n",
      "6         Crime       Sushant Singh         5192\n",
      "7   Documentary        Kazue Komiya         1565\n",
      "8         Drama     Sameera Sherief         9634\n",
      "9        Family           Vic Sotto         9960\n",
      "10      Fantasy           Raj Premi         3513\n",
      "11    Film-Noir     Humphrey Bogart           25\n",
      "12    Game-Show     Aadesh Bandekar         5406\n",
      "13      History          Amol Kolhe         1560\n",
      "14       Horror          Nithya Ram         1914\n",
      "15        Music      Thomas Sanders         3152\n",
      "16      Musical        Mark Simpson         4509\n",
      "17      Mystery           Ann Flood         3556\n",
      "18         News       Félix Álvarez         2496\n",
      "19   Reality-TV    Kenjirô Ishimaru        10675\n",
      "20      Romance       Audrey Peters         7275\n",
      "21       Sci-Fi       Lewis Lovhaug         1215\n",
      "22        Short         Oliver Haas         2059\n",
      "23        Sport   Michael Coulthard         1729\n",
      "24    Talk-Show          Mae Bryant         3329\n",
      "25     Thriller         W. Jayasiri         1344\n",
      "26          War  Deblina Chatterjee         1895\n",
      "27      Western        James Arness          683\n"
     ]
    }
   ],
   "source": [
    "query = f\"\"\"\n",
    "SELECT\n",
    "  genre,\n",
    "  nb.primary_name AS actor,\n",
    "  COUNT(*)         AS appearances\n",
    "FROM `bigquery-public-data.imdb.title_basics` AS tb,\n",
    "UNNEST(SPLIT(tb.genres, ',')) AS genre               -- 拆分类型列表\n",
    "JOIN `gothic-well-464310-i6.imdb.title_principals` AS tp\n",
    "  ON tp.tconst = tb.tconst\n",
    "JOIN `gothic-well-464310-i6.imdb.name_basics` AS nb\n",
    "  ON nb.nconst = tp.nconst\n",
    "WHERE\n",
    "  tp.category IN ('actor','actress')                 -- 只看演员/女演员\n",
    "GROUP BY\n",
    "  genre, actor                                       -- 按 (类型, 演员) 分组\n",
    "QUALIFY\n",
    "  ROW_NUMBER() OVER (PARTITION BY genre ORDER BY appearances DESC) = 1  -- 每个类型中只保留第一名\n",
    "ORDER BY\n",
    "  genre;                                             -- 按类型排序，方便查看\n",
    "\"\"\"\n",
    "\n",
    "# 执行并展示结果\n",
    "df = client.query(query).to_dataframe()\n",
    "print(\"每个类型中出镜次数最多的演员：\")\n",
    "print(df)"
   ]
  },
  {
   "cell_type": "markdown",
   "id": "dad55c6d-b9d3-4040-a9ee-92f1cc0bcf1c",
   "metadata": {},
   "source": [
    "Genre Trends and Popularity\n",
    "Use Case: Explore how genres have evolved over time in terms of popularity and quality.\n",
    "Example Questions:\n",
    "How has the popularity of the “sci-fi” genre changed over the last 50 years?\n",
    "Which genres consistently receive high average ratings?\n",
    "What is the most common runtime for movies in each genre?"
   ]
  },
  {
   "cell_type": "code",
   "execution_count": 73,
   "id": "01938ef3-9565-44e4-a6e9-0074afcdaeb3",
   "metadata": {},
   "outputs": [],
   "source": [
    "# # 构造一个只取前 10 行的查询\n",
    "# query = \"\"\"\n",
    "# SELECT\n",
    "#   *\n",
    "# FROM `gothic-well-464310-i6.imdb.title_basics`\n",
    "# LIMIT 10\n",
    "# \"\"\"\n",
    "\n",
    "# # 执行并转成 DataFrame\n",
    "# df_sample = client.query(query).to_dataframe()\n",
    "\n",
    "# # 直接打印\n",
    "# print(df_sample)"
   ]
  },
  {
   "cell_type": "code",
   "execution_count": 74,
   "id": "8d4fc45e-1f46-4c37-9228-699474e4ff55",
   "metadata": {},
   "outputs": [
    {
     "name": "stdout",
     "output_type": "stream",
     "text": [
      "    year  num_titles\n",
      "0   1975         333\n",
      "1   1976         502\n",
      "2   1977         417\n",
      "3   1978         431\n",
      "4   1979         505\n",
      "5   1980         421\n",
      "6   1981         495\n",
      "7   1982         387\n",
      "8   1983         448\n",
      "9   1984         572\n",
      "10  1985         487\n",
      "11  1986         458\n",
      "12  1987         480\n",
      "13  1988         501\n",
      "14  1989         631\n",
      "15  1990         659\n",
      "16  1991         676\n",
      "17  1992         685\n",
      "18  1993         657\n",
      "19  1994         791\n",
      "20  1995         729\n",
      "21  1996         760\n",
      "22  1997         751\n",
      "23  1998         923\n",
      "24  1999         833\n",
      "25  2000         933\n",
      "26  2001        1110\n",
      "27  2002        1196\n",
      "28  2003        1056\n",
      "29  2004        1203\n",
      "30  2005        1403\n",
      "31  2006        1350\n",
      "32  2007        1591\n",
      "33  2008        1879\n",
      "34  2009        2463\n",
      "35  2010        2877\n",
      "36  2011        3342\n",
      "37  2012        4332\n",
      "38  2013        5068\n",
      "39  2014        5096\n",
      "40  2015        4796\n",
      "41  2016        5311\n",
      "42  2017        5908\n",
      "43  2018        5964\n",
      "44  2019        5445\n",
      "45  2020        5252\n",
      "46  2021        5212\n",
      "47  2022        4822\n",
      "48  2023        4583\n",
      "49  2024        4376\n",
      "50  2025        1975\n"
     ]
    }
   ],
   "source": [
    "import matplotlib.pyplot as plt\n",
    "query = \"\"\"\n",
    "SELECT\n",
    "  year,\n",
    "  COUNT(*) AS num_titles\n",
    "FROM (\n",
    "  SELECT\n",
    "    tb.start_year AS year\n",
    "  FROM `gothic-well-464310-i6.imdb.title_basics` AS tb,\n",
    "  UNNEST(SPLIT(tb.genres, ',')) AS genre\n",
    "  WHERE\n",
    "    genre = 'Sci-Fi'\n",
    "    AND tb.start_year BETWEEN 1975 AND EXTRACT(YEAR FROM CURRENT_DATE())\n",
    ")\n",
    "GROUP BY year\n",
    "ORDER BY year\n",
    "\"\"\"\n",
    "df = client.query(query).to_dataframe()\n",
    "print(df)"
   ]
  },
  {
   "cell_type": "code",
   "execution_count": 75,
   "id": "cd70c583-e12d-4fb1-b4ea-5c18c2cd6f6c",
   "metadata": {},
   "outputs": [
    {
     "data": {
      "image/png": "[encoded data removed]",
      "text/plain": [
       "<Figure size 1000x400 with 1 Axes>"
      ]
     },
     "metadata": {},
     "output_type": "display_data"
    }
   ],
   "source": [
    "plt.figure(figsize=(10, 4))\n",
    "plt.plot(df['year'], df['num_titles'], marker='o')\n",
    "plt.title('From 1975-2025')\n",
    "plt.xlabel('Year')\n",
    "plt.ylabel('Sci-fi Number')\n",
    "plt.grid(True)\n",
    "plt.tight_layout()\n",
    "plt.show()"
   ]
  },
  {
   "cell_type": "markdown",
   "id": "49360197-70c0-4a6e-a7b2-2792461a8554",
   "metadata": {},
   "source": [
    "Which genres consistently receive high average ratings?"
   ]
  },
  {
   "cell_type": "code",
   "execution_count": 86,
   "id": "bd0e8f1a-d126-4998-8573-d811bbdc1dcf",
   "metadata": {},
   "outputs": [],
   "source": [
    "# # 构造一个只取前 10 行的查询\n",
    "# query = \"\"\"\n",
    "# SELECT\n",
    "#   *\n",
    "# FROM `gothic-well-464310-i6.imdb.title_basics`\n",
    "# LIMIT 10\n",
    "# \"\"\"\n",
    "\n",
    "# # 执行并转成 DataFrame\n",
    "# df_sample = client.query(query).to_dataframe()\n",
    "\n",
    "# # 直接打印\n",
    "# print(df_sample)"
   ]
  },
  {
   "cell_type": "code",
   "execution_count": 83,
   "id": "a4059c92-0a0f-4292-8f53-c9e8fd9b7452",
   "metadata": {},
   "outputs": [],
   "source": [
    "# # 构造一个只取前 10 行的查询\n",
    "# query = \"\"\"\n",
    "# SELECT\n",
    "#   *\n",
    "# FROM `gothic-well-464310-i6.imdb.title_ratings`\n",
    "# LIMIT 10\n",
    "# \"\"\"\n",
    "\n",
    "# # 执行并转成 DataFrame\n",
    "# df_sample = client.query(query).to_dataframe()\n",
    "\n",
    "# # 直接打印\n",
    "# print(df_sample)"
   ]
  },
  {
   "cell_type": "code",
   "execution_count": 82,
   "id": "07b24137-32d7-4ddc-87c0-6460ed7fb12d",
   "metadata": {},
   "outputs": [
    {
     "name": "stdout",
     "output_type": "stream",
     "text": [
      "平均评分持续较高的前 10 个类型：\n",
      "         genre  avg_rating  title_count\n",
      "0      History        7.36        48557\n",
      "1  Documentary        7.24       205041\n",
      "2    Biography        7.24        33426\n",
      "3    Animation        7.15       194022\n",
      "4    Adventure        7.12       179297\n",
      "5    Game-Show        7.12        40294\n",
      "6        Crime        7.10       169364\n",
      "7      Mystery        7.09        76424\n",
      "8       Family        7.08       114589\n",
      "9        Sport        7.08        32443\n"
     ]
    }
   ],
   "source": [
    "query = \"\"\"\n",
    "SELECT\n",
    "  genre,\n",
    "  ROUND(AVG(r.average_rating), 2) AS avg_rating,\n",
    "  COUNT(1)                     AS title_count\n",
    "FROM `gothic-well-464310-i6.imdb.title_basics` AS tb,\n",
    "UNNEST(SPLIT(tb.genres, ',')) AS genre\n",
    "JOIN `gothic-well-464310-i6.imdb.title_ratings` AS r\n",
    "  ON tb.tconst = r.tconst\n",
    "GROUP BY\n",
    "  genre\n",
    "HAVING\n",
    "  title_count > 1000       \n",
    "ORDER BY\n",
    "  avg_rating DESC\n",
    "LIMIT 10\n",
    "\"\"\"\n",
    "\n",
    "df = client.query(query).to_dataframe()\n",
    "\n",
    "print(\"平均评分持续较高的前 10 个类型：\")\n",
    "print(df)"
   ]
  },
  {
   "cell_type": "markdown",
   "id": "5b37c525-7b71-4a1b-a8c8-0c22cfabe525",
   "metadata": {},
   "source": [
    "What is the most common runtime for movies in each genre?"
   ]
  },
  {
   "cell_type": "code",
   "execution_count": 85,
   "id": "e54b61fb-a8a2-4df8-a80a-967f8a7d0b98",
   "metadata": {},
   "outputs": [
    {
     "name": "stdout",
     "output_type": "stream",
     "text": [
      "每种类型的电影最常见片长：\n",
      "          genre  runtime  count\n",
      "0        Action       90   2997\n",
      "1         Adult       80    459\n",
      "2     Adventure       90   1493\n",
      "3     Animation       90    423\n",
      "4     Biography       90    744\n",
      "5        Comedy       90   6796\n",
      "6         Crime       90   2124\n",
      "7   Documentary       52   5699\n",
      "8         Drama       90  11198\n",
      "9        Family       90    960\n",
      "10      Fantasy       90    769\n",
      "11    Film-Noir       79     32\n",
      "12    Game-Show       45      2\n",
      "13      History       90    630\n",
      "14       Horror       90   2131\n",
      "15        Music       90    659\n",
      "16      Musical       90    473\n",
      "17      Mystery       90    911\n",
      "18         News       90     70\n",
      "19   Reality-TV       90     32\n",
      "20      Romance       90   2158\n",
      "21       Sci-Fi       90    635\n",
      "22        Short       62      1\n",
      "23        Sport       90    721\n",
      "24    Talk-Show      120     13\n",
      "25     Thriller       90   2406\n",
      "26          War       90    427\n",
      "27      Western       50    709\n"
     ]
    }
   ],
   "source": [
    "query = \"\"\"\n",
    "SELECT\n",
    "  genre,\n",
    "  runtime,\n",
    "  freq AS count\n",
    "FROM (\n",
    "  SELECT\n",
    "    genre,\n",
    "    SAFE_CAST(tb.runtime_minutes AS INT64) AS runtime,\n",
    "    COUNT(*)                       AS freq,\n",
    "    ROW_NUMBER() OVER (\n",
    "      PARTITION BY genre\n",
    "      ORDER BY COUNT(*) DESC\n",
    "    )                               AS rn\n",
    "  FROM `gothic-well-464310-i6.imdb.title_basics` AS tb,\n",
    "  UNNEST(SPLIT(tb.genres, ','))    AS genre\n",
    "  WHERE\n",
    "    tb.title_type = 'movie'\n",
    "    AND SAFE_CAST(tb.runtime_minutes AS INT64) IS NOT NULL\n",
    "  GROUP BY\n",
    "    genre, runtime\n",
    ")\n",
    "WHERE rn = 1\n",
    "ORDER BY genre\n",
    "\"\"\"\n",
    "\n",
    "# 执行查询并转为 DataFrame\n",
    "df_mode_runtime = client.query(query).to_dataframe()\n",
    "\n",
    "# 输出结果\n",
    "print(\"每种类型的电影最常见片长：\")\n",
    "print(df_mode_runtime)"
   ]
  },
  {
   "cell_type": "markdown",
   "id": "a53aac54-c5e3-464d-bcf9-bac611936b21",
   "metadata": {},
   "source": [
    "TV Series Analysis"
   ]
  },
  {
   "cell_type": "markdown",
   "id": "cbe3c4fb-74aa-4efc-8fea-e1b397f6becb",
   "metadata": {},
   "source": [
    "Which TV shows have the highest-rated episodes?"
   ]
  },
  {
   "cell_type": "code",
   "execution_count": 87,
   "id": "d05efbbf-7146-4026-8601-12b066d1e6ea",
   "metadata": {},
   "outputs": [
    {
     "name": "stdout",
     "output_type": "stream",
     "text": [
      "       tconst title_type                                      primary_title  \\\n",
      "0  tt37058296  tvEpisode                                         Episode 15   \n",
      "1  tt37513422  tvEpisode                           Archaeological Mysteries   \n",
      "2   tt3857882  tvEpisode                                       Episode #1.4   \n",
      "3   tt3880192  tvEpisode                                     Episode #1.188   \n",
      "4   tt3880258  tvEpisode                                     Episode #1.231   \n",
      "5   tt3880380  tvEpisode                                      Episode #1.30   \n",
      "6   tt6825982  tvEpisode                                    Episode #1.1460   \n",
      "7   tt6936062  tvEpisode  La Tour Lotte World et son Centre Commercial -...   \n",
      "8   tt6954838  tvEpisode                                     Best Drama Ost   \n",
      "9   tt6954930  tvEpisode                                  Actor of the Year   \n",
      "\n",
      "                                      original_title  is_adult  start_year  \\\n",
      "0                                         Episode 15         0        <NA>   \n",
      "1                           Archaeological Mysteries         0        <NA>   \n",
      "2                                       Episode #1.4         0        <NA>   \n",
      "3                                     Episode #1.188         0        <NA>   \n",
      "4                                     Episode #1.231         0        <NA>   \n",
      "5                                      Episode #1.30         0        <NA>   \n",
      "6                                    Episode #1.1460         0        <NA>   \n",
      "7  La Tour Lotte World et son Centre Commercial -...         0        <NA>   \n",
      "8                                     Best Drama Ost         0        <NA>   \n",
      "9                                  Actor of the Year         0        <NA>   \n",
      "\n",
      "   end_year  runtime_minutes genres  \n",
      "0      <NA>             <NA>   None  \n",
      "1      <NA>             <NA>   None  \n",
      "2      <NA>             <NA>   None  \n",
      "3      <NA>             <NA>   None  \n",
      "4      <NA>             <NA>   None  \n",
      "5      <NA>             <NA>   None  \n",
      "6      <NA>             <NA>   None  \n",
      "7      <NA>             <NA>   None  \n",
      "8      <NA>             <NA>   None  \n",
      "9      <NA>             <NA>   None  \n"
     ]
    }
   ],
   "source": [
    "# 构造一个只取前 10 行的查询\n",
    "query = \"\"\"\n",
    "SELECT\n",
    "  *\n",
    "FROM `gothic-well-464310-i6.imdb.title_basics`\n",
    "LIMIT 10\n",
    "\"\"\"\n",
    "\n",
    "# 执行并转成 DataFrame\n",
    "df_sample = client.query(query).to_dataframe()\n",
    "\n",
    "# 直接打印\n",
    "print(df_sample)"
   ]
  },
  {
   "cell_type": "code",
   "execution_count": 88,
   "id": "169c51d5-c0d3-4ae2-9803-f720dac5949f",
   "metadata": {},
   "outputs": [
    {
     "name": "stdout",
     "output_type": "stream",
     "text": [
      "      tconst parent_tconst  season_number  episode_number\n",
      "0  tt0071158     tt0159876             49              27\n",
      "1  tt0111465     tt1868747           1994              89\n",
      "2  tt0113395     tt1868747           1995             114\n",
      "3  tt0147908     tt1868747           1996             168\n",
      "4  tt0259089     tt1868747           1996             155\n",
      "5  tt0259987     tt0262955             23               0\n",
      "6  tt0266213     tt0055708             30             120\n",
      "7  tt0284025     tt0441074             47              41\n",
      "8  tt0344511     tt1868747           1994              74\n",
      "9  tt0344858     tt0159876             49              29\n"
     ]
    }
   ],
   "source": [
    "# 构造一个只取前 10 行的查询\n",
    "query = \"\"\"\n",
    "SELECT\n",
    "  *\n",
    "FROM `gothic-well-464310-i6.imdb.title_episode`\n",
    "LIMIT 10\n",
    "\"\"\"\n",
    "\n",
    "# 执行并转成 DataFrame\n",
    "df_sample = client.query(query).to_dataframe()\n",
    "\n",
    "# 直接打印\n",
    "print(df_sample)"
   ]
  },
  {
   "cell_type": "code",
   "execution_count": 89,
   "id": "451b1fa9-8dac-4ff1-83bb-4cd254e28d9f",
   "metadata": {},
   "outputs": [
    {
     "name": "stdout",
     "output_type": "stream",
     "text": [
      "      tconst  average_rating  num_votes\n",
      "0  tt0000024             3.7        165\n",
      "1  tt0000025             4.1         51\n",
      "2  tt0000036             4.4        657\n",
      "3  tt0000037             4.4         79\n",
      "4  tt0000038             4.1        237\n",
      "5  tt0000040             4.2         81\n",
      "6  tt0000044             4.0         55\n",
      "7  tt0000052             4.1        125\n",
      "8  tt0000076             4.4        588\n",
      "9  tt0000078             3.5        113\n"
     ]
    }
   ],
   "source": [
    "# 构造一个只取前 10 行的查询\n",
    "query = \"\"\"\n",
    "SELECT\n",
    "  *\n",
    "FROM `gothic-well-464310-i6.imdb.title_ratings`\n",
    "LIMIT 10\n",
    "\"\"\"\n",
    "\n",
    "# 执行并转成 DataFrame\n",
    "df_sample = client.query(query).to_dataframe()\n",
    "\n",
    "# 直接打印\n",
    "print(df_sample)"
   ]
  },
  {
   "cell_type": "code",
   "execution_count": 91,
   "id": "34ca5b6e-7b97-4a49-a388-69cd4e4bb749",
   "metadata": {
    "scrolled": true
   },
   "outputs": [
    {
     "name": "stdout",
     "output_type": "stream",
     "text": [
      "评分最高的前 10 集剧集及其所属电视剧\n",
      "             series_title                                      episode_title  \\\n",
      "0                The Wild                                     Episode #1.161   \n",
      "1           Rüzgarli Tepe                                      Episode #1.48   \n",
      "2      The Challenge Show  #Theatraleon TV Edition Interview with Joseph ...   \n",
      "3      The Challenge Show                         Leonardo Thimo #Mantinades   \n",
      "4  The Return of Superman                        Can You Remember It For Me?   \n",
      "5           Rüzgarli Tepe                                      Episode #1.49   \n",
      "6                The Wild                                     Episode #1.101   \n",
      "7                  Emanet                                     Episode #1.146   \n",
      "8               Northward                                      Episode #1.37   \n",
      "9            The Spirealm                                      Episode #1.60   \n",
      "\n",
      "   episode_rating  season  episode  \n",
      "0            10.0       1      161  \n",
      "1            10.0       1       48  \n",
      "2            10.0       5       74  \n",
      "3            10.0       5       85  \n",
      "4            10.0       1      413  \n",
      "5            10.0       1       49  \n",
      "6            10.0       1      101  \n",
      "7            10.0       1      146  \n",
      "8            10.0       1       37  \n",
      "9            10.0       1       60  \n"
     ]
    }
   ],
   "source": [
    "query = \"\"\"\n",
    "SELECT\n",
    "  series.primary_title   AS series_title,     -- 电视剧名称\n",
    "  episode.primary_title  AS episode_title,    -- 剧集名称\n",
    "  tr.average_rating      AS episode_rating,   -- 剧集评分\n",
    "  te.season_number       AS season,           -- 季号\n",
    "  te.episode_number      AS episode           -- 集号\n",
    "FROM `gothic-well-464310-i6.imdb.title_episode` AS te\n",
    "JOIN `gothic-well-464310-i6.imdb.title_basics`  AS episode\n",
    "  ON te.tconst = episode.tconst\n",
    "JOIN `gothic-well-464310-i6.imdb.title_ratings` AS tr\n",
    "  ON te.tconst = tr.tconst\n",
    "JOIN `gothic-well-464310-i6.imdb.title_basics`  AS series\n",
    "  ON te.parent_tconst = series.tconst\n",
    "WHERE\n",
    "  series.title_type = 'tvSeries'\n",
    "ORDER BY\n",
    "  tr.average_rating DESC\n",
    "LIMIT 10\n",
    "\"\"\"\n",
    "\n",
    "df_top_episodes = client.query(query).to_dataframe()\n",
    "\n",
    "print(\"评分最高的前 10 集剧集及其所属电视剧\")\n",
    "print(df_top_episodes)"
   ]
  },
  {
   "cell_type": "markdown",
   "id": "eb3e0c2a-a528-4aed-a7dd-997dfc642d44",
   "metadata": {},
   "source": [
    "What is the average lifespan (number of seasons) of top-rated TV shows?\n",
    "评分最高的电视剧的平均寿命（季数）是多少？"
   ]
  },
  {
   "cell_type": "code",
   "execution_count": 95,
   "id": "74a4cce1-0629-45f9-b379-6dd7f4b4da07",
   "metadata": {},
   "outputs": [
    {
     "name": "stdout",
     "output_type": "stream",
     "text": [
      "评分最高的 100 部电视剧的平均季数为：4.12\n"
     ]
    }
   ],
   "source": [
    "query = \"\"\"\n",
    "  -- 选出评分最高的前 100 部电视剧\n",
    "WITH top_shows AS (\n",
    "  SELECT\n",
    "    tb.tconst\n",
    "  FROM `gothic-well-464310-i6.imdb.title_basics` AS tb\n",
    "  JOIN `gothic-well-464310-i6.imdb.title_ratings` AS tr\n",
    "    ON tb.tconst = tr.tconst\n",
    "  WHERE tb.title_type = 'tvSeries'\n",
    "  ORDER BY tr.average_rating DESC\n",
    "  LIMIT 100\n",
    "),\n",
    "  -- 每部剧的最大seasonNumber\n",
    "season_counts AS (\n",
    "  SELECT\n",
    "    te.parent_tconst AS tconst,\n",
    "    MAX(te.season_number) AS seasons\n",
    "  FROM `gothic-well-464310-i6.imdb.title_episode` AS te\n",
    "  GROUP BY te.parent_tconst\n",
    ")\n",
    "-- 计算这 100 部剧的平均季数\n",
    "SELECT\n",
    "  ROUND(AVG(sc.seasons), 2) AS avg_seasons\n",
    "FROM top_shows ts\n",
    "JOIN season_counts sc\n",
    "  ON ts.tconst = sc.tconst\n",
    "\"\"\"\n",
    "\n",
    "df = client.query(query).to_dataframe()\n",
    "print(f\"评分最高的 100 部电视剧的平均季数为：{df.loc[0, 'avg_seasons']}\")"
   ]
  },
  {
   "cell_type": "markdown",
   "id": "183c541c-3a76-41c1-a0a2-d91bc762aee1",
   "metadata": {},
   "source": [
    "Which genres dominate TV series production?\n",
    "哪些类型在电视剧制作中占主导地位"
   ]
  },
  {
   "cell_type": "code",
   "execution_count": 96,
   "id": "cc306d4d-ef8e-499c-854b-e63bbfe214bc",
   "metadata": {},
   "outputs": [
    {
     "name": "stdout",
     "output_type": "stream",
     "text": [
      "按类型统计的 TV 系列产量：\n",
      "          genre  series_count\n",
      "0        Comedy         63720\n",
      "1         Drama         53816\n",
      "2   Documentary         35329\n",
      "3    Reality-TV         26302\n",
      "4     Talk-Show         24272\n",
      "5     Animation         17642\n",
      "6        Family         16850\n",
      "7       Romance         11998\n",
      "8     Adventure         11554\n",
      "9        Action         11423\n",
      "10        Crime         11101\n",
      "11        Music         11032\n",
      "12    Game-Show          9561\n",
      "13         News          9301\n",
      "14        Sport          7742\n",
      "15      Fantasy          6336\n",
      "16      Mystery          5779\n",
      "17      History          5594\n",
      "18     Thriller          5180\n",
      "19       Horror          4642\n",
      "20       Sci-Fi          4553\n",
      "21        Short          4242\n",
      "22        Adult          2862\n",
      "23    Biography          2633\n",
      "24      Musical          1672\n",
      "25          War          1030\n",
      "26      Western           454\n"
     ]
    }
   ],
   "source": [
    "query = \"\"\"\n",
    "SELECT\n",
    "  genre,\n",
    "  COUNT(*) AS series_count\n",
    "FROM `gothic-well-464310-i6.imdb.title_basics` AS tb,\n",
    "UNNEST(SPLIT(tb.genres, ',')) AS genre\n",
    "WHERE tb.title_type = 'tvSeries'\n",
    "GROUP BY genre\n",
    "ORDER BY series_count DESC\n",
    "\"\"\"\n",
    "\n",
    "df_genres = client.query(query).to_dataframe()\n",
    "\n",
    "print(\"按类型统计的 TV 系列产量：\")\n",
    "print(df_genres)"
   ]
  },
  {
   "cell_type": "markdown",
   "id": "f54a34b4-f674-486c-a504-4a760f1875aa",
   "metadata": {},
   "source": [
    "Content Longevity and Relevance"
   ]
  },
  {
   "cell_type": "markdown",
   "id": "a53340d3-cdbf-4865-beb6-5866bc1756f5",
   "metadata": {},
   "source": [
    "Which movies from the 1990s are still popular today?"
   ]
  },
  {
   "cell_type": "code",
   "execution_count": 97,
   "id": "7fd5b5c3-a872-45d3-8a22-2da5a88a9975",
   "metadata": {},
   "outputs": [
    {
     "name": "stdout",
     "output_type": "stream",
     "text": [
      "1990 年代上映、至今累积投票最多的前 10 部电影：\n",
      "                      title  year  rating    votes\n",
      "0  The Shawshank Redemption  1994     9.3  3067322\n",
      "1                Fight Club  1999     8.8  2486323\n",
      "2              Forrest Gump  1994     8.8  2395905\n",
      "3              Pulp Fiction  1994     8.8  2350255\n",
      "4                The Matrix  1999     8.7  2168431\n",
      "5                     Se7en  1995     8.6  1926491\n",
      "6  The Silence of the Lambs  1991     8.6  1647887\n",
      "7       Saving Private Ryan  1998     8.6  1580194\n",
      "8          Schindler's List  1993     9.0  1533691\n",
      "9            The Green Mile  1999     8.6  1496500\n"
     ]
    }
   ],
   "source": [
    "query = f\"\"\"\n",
    "SELECT\n",
    "  tb.primary_title    AS title,\n",
    "  tb.start_year       AS year,\n",
    "  tr.average_rating   AS rating,\n",
    "  tr.num_votes        AS votes\n",
    "FROM `gothic-well-464310-i6.imdb.title_basics` AS tb\n",
    "JOIN `gothic-well-464310-i6.imdb.title_ratings` AS tr\n",
    "  ON tb.tconst = tr.tconst\n",
    "WHERE\n",
    "  tb.title_type = 'movie'\n",
    "  AND tb.start_year BETWEEN 1990 AND 1999\n",
    "ORDER BY\n",
    "  tr.num_votes DESC\n",
    "LIMIT 10\n",
    "\"\"\"\n",
    "\n",
    "df_90s_popular = client.query(query).to_dataframe()\n",
    "\n",
    "print(\"1990 年代上映、至今累积投票最多的前 10 部电影：\")\n",
    "print(df_90s_popular)"
   ]
  },
  {
   "cell_type": "markdown",
   "id": "46e9024f-6caa-4e82-bb17-e5bf3f2c89a5",
   "metadata": {},
   "source": [
    "Are older movies generally rated higher than recent ones?较早的电影是否通常比最新的电影评分更高？\n"
   ]
  },
  {
   "cell_type": "code",
   "execution_count": 100,
   "id": "df891222-f2cb-4379-8e7c-99ca5aaf997f",
   "metadata": {},
   "outputs": [
    {
     "name": "stdout",
     "output_type": "stream",
     "text": [
      "各年代电影的平均 IMDb 评分：\n",
      "    decade  avg_rating  movie_count\n",
      "0   1920.0        6.04         4281\n",
      "1   1930.0        6.08         9492\n",
      "2   1940.0        6.17         9275\n",
      "3   1950.0        6.16        13225\n",
      "4   1960.0        6.09        17744\n",
      "5   1970.0        5.90        23609\n",
      "6   1980.0        5.87        26864\n",
      "7   1990.0        6.01        27721\n",
      "8   2000.0        6.20        48097\n",
      "9   2010.0        6.23        94405\n",
      "10  2020.0        6.35        55398\n"
     ]
    }
   ],
   "source": [
    "query = \"\"\"\n",
    "SELECT\n",
    "  FLOOR(SAFE_CAST(tb.start_year AS INT64) / 10) * 10 AS decade,     -- 取整到十年\n",
    "  ROUND(AVG(tr.average_rating), 2)           AS avg_rating,         -- 平均评分，保留两位小数\n",
    "  COUNT(1)                                  AS movie_count         -- 该年代电影数量\n",
    "FROM `gothic-well-464310-i6.imdb.title_basics` AS tb\n",
    "JOIN `gothic-well-464310-i6.imdb.title_ratings` AS tr\n",
    "  ON tb.tconst = tr.tconst\n",
    "WHERE\n",
    "  tb.title_type = 'movie'\n",
    "  AND SAFE_CAST(tb.start_year AS INT64) BETWEEN 1920 AND EXTRACT(YEAR FROM CURRENT_DATE())\n",
    "GROUP BY\n",
    "  decade\n",
    "ORDER BY\n",
    "  decade\n",
    "\"\"\"\n",
    "df = client.query(query).to_dataframe()\n",
    "\n",
    "print(\"各年代电影的平均 IMDb 评分：\")\n",
    "print(df)"
   ]
  },
  {
   "cell_type": "code",
   "execution_count": 102,
   "id": "10d016d6-fb39-4498-8246-5d1e4fb3dfaf",
   "metadata": {},
   "outputs": [
    {
     "data": {
      "image/png": "[encoded data removed]",
      "text/plain": [
       "<Figure size 800x400 with 1 Axes>"
      ]
     },
     "metadata": {},
     "output_type": "display_data"
    }
   ],
   "source": [
    "plt.figure(figsize=(8,4))\n",
    "plt.plot(df['decade'], df['avg_rating'], marker='o')\n",
    "plt.xlabel('decade')\n",
    "plt.ylabel('Avg_rating')\n",
    "plt.title('Rating trend')\n",
    "plt.grid(True)\n",
    "plt.tight_layout()\n",
    "plt.show()"
   ]
  },
  {
   "cell_type": "markdown",
   "id": "e2846614-b4fd-4a68-923f-a8ccfb737d87",
   "metadata": {},
   "source": [
    "How do ratings change for movies as they age?随着电影年龄的增长，它们的评分如何变化？"
   ]
  },
  {
   "cell_type": "code",
   "execution_count": 105,
   "id": "1e677b95-af28-4ad7-a302-1913cc609e5d",
   "metadata": {},
   "outputs": [
    {
     "name": "stdout",
     "output_type": "stream",
     "text": [
      "   age  avg_rating  movie_count\n",
      "0    0        6.85         3815\n",
      "1    1        6.49        10458\n",
      "2    2        6.35        11278\n",
      "3    3        6.33        11292\n",
      "4    4        6.22         9627\n"
     ]
    }
   ],
   "source": [
    "query = \"\"\"\n",
    "SELECT\n",
    "  EXTRACT(YEAR FROM CURRENT_DATE()) - SAFE_CAST(tb.start_year AS INT64) AS age,\n",
    "  ROUND(AVG(tr.average_rating), 2) AS avg_rating,\n",
    "  COUNT(1) AS movie_count\n",
    "FROM `gothic-well-464310-i6.imdb.title_basics` AS tb\n",
    "JOIN `gothic-well-464310-i6.imdb.title_ratings` AS tr\n",
    "  ON tb.tconst = tr.tconst\n",
    "WHERE\n",
    "  tb.title_type = 'movie'\n",
    "  AND SAFE_CAST(tb.start_year AS INT64) IS NOT NULL\n",
    "GROUP BY\n",
    "  age\n",
    "ORDER BY\n",
    "  age\n",
    "\"\"\"\n",
    "\n",
    "df = client.query(query).to_dataframe()\n",
    "\n",
    "print(df.head())"
   ]
  },
  {
   "cell_type": "code",
   "execution_count": 106,
   "id": "38a55e33-6d49-4970-adaf-88ea2ef6d66b",
   "metadata": {},
   "outputs": [
    {
     "data": {
      "image/png": "[encoded data removed]",
      "text/plain": [
       "<Figure size 800x400 with 1 Axes>"
      ]
     },
     "metadata": {},
     "output_type": "display_data"
    }
   ],
   "source": [
    "plt.figure(figsize=(8, 4))\n",
    "plt.plot(df['age'], df['avg_rating'], marker='o')\n",
    "plt.xlabel('Movie Age')\n",
    "plt.ylabel('Avg rating')\n",
    "plt.title('Rating Trend')\n",
    "plt.grid(True)\n",
    "plt.tight_layout()\n",
    "plt.show()"
   ]
  },
  {
   "cell_type": "markdown",
   "id": "ca21e747-95a8-45c5-b062-07ac7357d45f",
   "metadata": {},
   "source": [
    "Regional or Cultural Insights"
   ]
  },
  {
   "cell_type": "markdown",
   "id": "a0273aad-d590-453a-a985-5d2dbfa4ac01",
   "metadata": {},
   "source": [
    "What are the most popular non-English movies by rating?按评分排序，最受欢迎的非英语电影有哪些？"
   ]
  },
  {
   "cell_type": "code",
   "execution_count": 116,
   "id": "528bc521-65e0-42ca-9590-61e31142c490",
   "metadata": {},
   "outputs": [
    {
     "name": "stdout",
     "output_type": "stream",
     "text": [
      "       title_id  ordering  \\\n",
      "0    tt30609305         1   \n",
      "1    tt30688949         1   \n",
      "2    tt30695498         1   \n",
      "3    tt30710044         1   \n",
      "4    tt30751202         1   \n",
      "..          ...       ...   \n",
      "995  tt29345725         1   \n",
      "996   tt2936312         1   \n",
      "997  tt29370174         1   \n",
      "998  tt29374094         1   \n",
      "999   tt2938602         1   \n",
      "\n",
      "                                                                          title  \\\n",
      "0                                      Abstimmungs-Arena: Stipendien-Initiative   \n",
      "1                                                                Episode #1.381   \n",
      "2                                                Episode dated 20 December 2023   \n",
      "3                                                Episode dated 13 February 1990   \n",
      "4                                                       Casa Automática em 360°   \n",
      "..                                                                          ...   \n",
      "995                                     The Slaughter Creek Slasher of the Dead   \n",
      "996                                                                 Alwyn Motel   \n",
      "997                                                              Episode #1.730   \n",
      "998                                             Episode dated 11 September 2023   \n",
      "999  Swapping Single Life for Domesticity in Denmark's Capital City, Copenhagen   \n",
      "\n",
      "    region language     types attributes  is_original_title  \n",
      "0     None     None  original       None               True  \n",
      "1     None     None  original       None               True  \n",
      "2     None     None  original       None               True  \n",
      "3     None     None  original       None               True  \n",
      "4     None     None  original       None               True  \n",
      "..     ...      ...       ...        ...                ...  \n",
      "995   None     None  original       None               True  \n",
      "996   None     None  original       None               True  \n",
      "997   None     None  original       None               True  \n",
      "998   None     None  original       None               True  \n",
      "999   None     None  original       None               True  \n",
      "\n",
      "[1000 rows x 8 columns]\n"
     ]
    }
   ],
   "source": [
    "\n",
    "query = \"\"\"\n",
    "SELECT\n",
    "  *\n",
    "FROM `gothic-well-464310-i6.imdb.title_akas`\n",
    "LIMIT 1000\n",
    "\"\"\"\n",
    "\n",
    "# 执行并转成 DataFrame\n",
    "df_sample = client.query(query).to_dataframe()\n",
    "\n",
    "# 直接打印\n",
    "print(df_sample)\n",
    "\n",
    "# pd.set_option('display.max_colwidth', None)\n",
    "# print(df_sample['language'])\n",
    "\n",
    "# unique_langs = df_sample['language'].dropna().unique()\n",
    "\n",
    "# # 直接打印数组\n",
    "# print(unique_langs)\n",
    "\n",
    "# # 或者按行打印，更易读\n",
    "# for lang in sorted(unique_langs):\n",
    "#     print(lang)"
   ]
  },
  {
   "cell_type": "code",
   "execution_count": 119,
   "id": "e8a07a51-8c82-469b-9c9b-09646b2914ac",
   "metadata": {},
   "outputs": [
    {
     "name": "stdout",
     "output_type": "stream",
     "text": [
      "评分最高的前 10 部“原版非英语”电影：\n",
      "                                                 title  rating  votes\n",
      "0                                 Mensch, ärgere dich!    10.0      6\n",
      "1               Mamá quiero ser futbolista profesional    10.0      5\n",
      "2                      Days of Géants 3: Dani Divova 3     9.8     63\n",
      "3  13 Lentes De Um Final Feliz (Documentário Completo)     9.8     45\n",
      "4                    Rutas del más allá: El documental     9.8     29\n",
      "5             Islande, Sur les Traces de la Démocratie     9.8     15\n",
      "6               Au-delà de 120 ans avec Jeanne Calment     9.8      9\n",
      "7                                Héroes de Chapultepec     9.8      8\n",
      "8                                                Griôs     9.8      8\n",
      "9                                   The Spirit of Tatá     9.8      6\n"
     ]
    }
   ],
   "source": [
    "query = \"\"\"\n",
    "SELECT\n",
    "  tb.primary_title    AS title,       -- 电影名\n",
    "  tr.average_rating   AS rating,      -- 平均评分\n",
    "  tr.num_votes        AS votes,       -- 投票数\n",
    "FROM `gothic-well-464310-i6.imdb.title_akas`    AS ta\n",
    "JOIN `gothic-well-464310-i6.imdb.title_basics`  AS tb\n",
    "  ON ta.title_id = tb.tconst\n",
    "JOIN `gothic-well-464310-i6.imdb.title_ratings` AS tr\n",
    "  ON tb.tconst = tr.tconst\n",
    "WHERE\n",
    "  -- 只看原始标题且是电影\n",
    "  ta.is_original_title = TRUE\n",
    "  AND tb.title_type = 'movie'\n",
    "  AND (\n",
    "       -- 语言不是英語\n",
    "       UPPER(ta.language) NOT IN ('EN')\n",
    "    OR -- 地区不是英语市场\n",
    "       ta.region NOT IN ('US','GB','UK','CA','AU','NZ')\n",
    "    OR -- 标题包含非 ASCII 字符\n",
    "       REGEXP_CONTAINS(tb.primary_title, r'[^\\\\x00-\\\\x7F]')\n",
    "    OR -- 标题中多字节字符占用空间大于字符数\n",
    "       CHAR_LENGTH(tb.primary_title) < BYTE_LENGTH(tb.primary_title)\n",
    "  )\n",
    "ORDER BY\n",
    "  tr.average_rating DESC,  -- 按评分降序\n",
    "  tr.num_votes DESC         -- 同分时按投票数降序\n",
    "LIMIT 10\n",
    "\"\"\"\n",
    "\n",
    "# 执行查询并转成 DataFrame\n",
    "df_non_english = client.query(query).to_dataframe()\n",
    "\n",
    "# 打印结果\n",
    "print(\"评分最高的前 10 部“原版非英语”电影：\")\n",
    "print(df_non_english)"
   ]
  },
  {
   "cell_type": "markdown",
   "id": "70c67b61-5edb-4a4a-aadc-0d86ab45c378",
   "metadata": {},
   "source": [
    "Which countries produce the most highly-rated movies in a specific genre?\n",
    "\n",
    "\n",
    "在特定类型中，哪些国家制作了最多高评分的电影？"
   ]
  },
  {
   "cell_type": "code",
   "execution_count": 123,
   "id": "90ef4e69-dbbb-401f-8dcd-0e31143a00b5",
   "metadata": {},
   "outputs": [
    {
     "name": "stdout",
     "output_type": "stream",
     "text": [
      "在 Comedy 类型中，IMDb 平均评分 ≥ 9 的前 10 个制作国家：\n",
      "  country  high_rated_count\n",
      "0    None               537\n",
      "1      US               255\n",
      "2      IN               158\n",
      "3      GB               100\n",
      "4      CA                55\n",
      "5      DE                27\n",
      "6      AU                25\n",
      "7     XWW                21\n",
      "8      PH                16\n",
      "9      MX                12\n"
     ]
    }
   ],
   "source": [
    "query = \"\"\"\n",
    "SELECT\n",
    "  COALESCE(ta.region, ta.language) AS country,  -- 如果 region 为空，就用 language\n",
    "  COUNT(*)                          AS high_rated_count\n",
    "FROM `gothic-well-464310-i6.imdb.title_akas`   AS ta\n",
    "JOIN `gothic-well-464310-i6.imdb.title_basics` AS tb\n",
    "  ON ta.title_id = tb.tconst\n",
    "JOIN `gothic-well-464310-i6.imdb.title_ratings` AS tr\n",
    "  ON tb.tconst = tr.tconst\n",
    "WHERE\n",
    "  tb.title_type = 'movie'\n",
    "  AND 'Comedy' IN UNNEST(SPLIT(tb.genres, ','))\n",
    "  AND tr.average_rating >= 9.0\n",
    "  -- 不做 region IS NOT NULL 过滤\n",
    "GROUP BY\n",
    "  country\n",
    "ORDER BY\n",
    "  high_rated_count DESC\n",
    "LIMIT 10\n",
    "\"\"\"\n",
    "\n",
    "df_countries = client.query(query).to_dataframe()\n",
    "print(\"在 Comedy 类型中，IMDb 平均评分 ≥ 9 的前 10 个制作国家：\")\n",
    "print(df_countries)"
   ]
  },
  {
   "cell_type": "markdown",
   "id": "665af911-b46f-4914-92cb-61d22c259ccb",
   "metadata": {},
   "source": [
    "Crew Collaboration Analysis"
   ]
  },
  {
   "cell_type": "markdown",
   "id": "2e85ca82-51e9-443a-b64f-42c97f64cbbc",
   "metadata": {},
   "source": [
    "Which actor-director pairings produce the highest-rated movies?哪些演员–导演组合制作了评分最高的电影？"
   ]
  },
  {
   "cell_type": "code",
   "execution_count": 124,
   "id": "e4b0bfba-fc24-4a58-ad2f-6c856223b2d2",
   "metadata": {
    "collapsed": true,
    "jupyter": {
     "outputs_hidden": true
    },
    "scrolled": true
   },
   "outputs": [
    {
     "name": "stdout",
     "output_type": "stream",
     "text": [
      "评分最高的前 10 个演员–导演组合：\n",
      "           director                  actor  avg_rating  collaborations\n",
      "0        Ty M. Levy     William J.N. Bryan        10.0               3\n",
      "1        Ty M. Levy             Ty M. Levy        10.0               3\n",
      "2  Kathryn Johnston            Magicofwolf         9.9               3\n",
      "3     Artie Brennan          Artie Brennan         9.8               3\n",
      "4    Cara Consilvio  Brent Nicholson Earle         9.8               3\n",
      "5  Anthony Giordano          Artie Brennan         9.8               3\n",
      "6     Artie Brennan       Anthony Giordano         9.8               3\n",
      "7  Anthony Giordano       Anthony Giordano         9.8               3\n",
      "8    Vikram Benipal          James Zhao Lu         9.7               3\n",
      "9    Daniel Fissmer         Daniel Fissmer         9.7               3\n"
     ]
    }
   ],
   "source": [
    "query = \"\"\"\n",
    "SELECT\n",
    "  dir_nb.primary_name    AS director,\n",
    "  act_nb.primary_name    AS actor,\n",
    "  ROUND(AVG(tr.average_rating), 2) AS avg_rating,\n",
    "  COUNT(*)                        AS collaborations\n",
    "FROM `gothic-well-464310-i6.imdb.title_basics`   AS tb\n",
    "JOIN `gothic-well-464310-i6.imdb.title_ratings`  AS tr\n",
    "  ON tb.tconst = tr.tconst\n",
    "JOIN `gothic-well-464310-i6.imdb.title_crew`     AS tc\n",
    "  ON tb.tconst = tc.tconst\n",
    "CROSS JOIN UNNEST(SPLIT(tc.directors, ','))       AS director_nconst\n",
    "JOIN `gothic-well-464310-i6.imdb.name_basics`    AS dir_nb\n",
    "  ON dir_nb.nconst = director_nconst\n",
    "JOIN `gothic-well-464310-i6.imdb.title_principals` AS tp\n",
    "  ON tp.tconst = tb.tconst AND tp.category IN ('actor','actress')\n",
    "JOIN `gothic-well-464310-i6.imdb.name_basics`    AS act_nb\n",
    "  ON act_nb.nconst = tp.nconst\n",
    "WHERE\n",
    "  tb.title_type = 'movie'\n",
    "GROUP BY\n",
    "  director, actor\n",
    "HAVING\n",
    "  collaborations >= 3\n",
    "ORDER BY\n",
    "  avg_rating DESC,\n",
    "  collaborations DESC\n",
    "LIMIT 10\n",
    "\"\"\"\n",
    "\n",
    "# 执行并展示结果\n",
    "df_pairs = client.query(query).to_dataframe()\n",
    "print(\"评分最高的前 10 个演员–导演组合：\")\n",
    "print(df_pairs)"
   ]
  },
  {
   "cell_type": "markdown",
   "id": "a151e1b4-59a3-449e-8ef5-efc668474a54",
   "metadata": {},
   "source": [
    "Who are the most frequent collaborators in a specific genre?"
   ]
  },
  {
   "cell_type": "code",
   "execution_count": 126,
   "id": "c1b765c0-985c-4cb3-a15c-7a6ed8996c7f",
   "metadata": {},
   "outputs": [
    {
     "name": "stdout",
     "output_type": "stream",
     "text": [
      "每个类型中合作最频繁的演员组合：\n",
      "          genre               actor1              actor2  collaborations\n",
      "0        Action          Eric Stuart     Veronica Taylor             164\n",
      "1         Adult            Tom Byron        Marc Wallice              71\n",
      "2     Adventure          Eric Stuart     Veronica Taylor             164\n",
      "3     Animation          Eric Stuart     Veronica Taylor             164\n",
      "4     Biography        Richard Epcar     Barbara Goodson              16\n",
      "5        Comedy             Panchito              Dolphy             119\n",
      "6         Crime          Luis Huizar       Vianey Huizar              46\n",
      "7   Documentary          Jason Young           Ann Waugh              46\n",
      "8         Drama      Smiley Burnette    Charles Starrett             101\n",
      "9        Family           Simon Hill      Kelsey Painter              74\n",
      "10      Fantasy           Jan Rabson     Richard Rossner              36\n",
      "11    Film-Noir           Tom Conway         Jean Brooks               6\n",
      "12    Game-Show         Ross Gilbert      Joshua Hiebert               2\n",
      "13      History   Luís Miguel Cintra    Miguel Guilherme              11\n",
      "14       Horror      Mykola Yeriomin           Sergey A.              40\n",
      "15        Music           Gene Autry     Smiley Burnette              45\n",
      "16      Musical         Lauren Lopez        Joey Richter              46\n",
      "17      Mystery  James Arnold Taylor     Kaitlyn Robrock              18\n",
      "18         News            Bill Curl       Steve Gleason               4\n",
      "19   Reality-TV           Omer Pasha    Brent Ray Fraser              21\n",
      "20      Romance    Tanikella Bharani        Brahmanandam              45\n",
      "21       Sci-Fi          Chris Boike     Patrick Freeman              36\n",
      "22        Short         August Falck         Bodil Ipsen               1\n",
      "23        Sport      Jeff Cannonball    Mark Angelosetti              18\n",
      "24    Talk-Show  Andrei Sylvan Horia    Sebastian Medrea               9\n",
      "25     Thriller        Maggie Cheung           Anita Mui              19\n",
      "26          War   Bernard Fredericks  Joseph A. Anderson              11\n",
      "27      Western      Smiley Burnette    Charles Starrett             103\n"
     ]
    }
   ],
   "source": [
    "#原本只打算以comedy为例来写 后来想把每一个genre的第一个都打印出来\n",
    "query = \"\"\"\n",
    "SELECT\n",
    "  genre,\n",
    "  a1.primary_name   AS actor1,\n",
    "  a2.primary_name   AS actor2,\n",
    "  COUNT(*)          AS collaborations\n",
    "FROM `gothic-well-464310-i6.imdb.title_basics` AS tb\n",
    "CROSS JOIN UNNEST(SPLIT(tb.genres, ','))       AS genre\n",
    "JOIN `gothic-well-464310-i6.imdb.title_principals` AS tp1\n",
    "  ON tp1.tconst = tb.tconst AND tp1.category IN ('actor','actress')\n",
    "JOIN `gothic-well-464310-i6.imdb.name_basics`      AS a1\n",
    "  ON a1.nconst = tp1.nconst\n",
    "JOIN `gothic-well-464310-i6.imdb.title_principals` AS tp2\n",
    "  ON tp2.tconst = tb.tconst \n",
    "    AND tp2.category IN ('actor','actress') \n",
    "    AND tp2.nconst > tp1.nconst\n",
    "JOIN `gothic-well-464310-i6.imdb.name_basics`      AS a2\n",
    "  ON a2.nconst = tp2.nconst\n",
    "WHERE\n",
    "  tb.title_type = 'movie'\n",
    "GROUP BY\n",
    "  genre, a1.primary_name, a2.primary_name\n",
    "QUALIFY\n",
    "  ROW_NUMBER() OVER (\n",
    "    PARTITION BY genre \n",
    "    ORDER BY collaborations DESC\n",
    "  ) = 1\n",
    "ORDER BY\n",
    "  genre\n",
    "\"\"\"\n",
    "\n",
    "df = client.query(query).to_dataframe()\n",
    "print(\"每个类型中合作最频繁的演员组合：\")\n",
    "print(df)"
   ]
  },
  {
   "cell_type": "markdown",
   "id": "a8626adc-c8d5-409d-8ecd-c4cc1aeff78f",
   "metadata": {},
   "source": [
    "Do sequels generally perform better or worse than the original movie? 续集和原来的比 好坏"
   ]
  },
  {
   "cell_type": "code",
   "execution_count": 131,
   "id": "47bc7f90-db3a-4faf-9259-323497d83b16",
   "metadata": {},
   "outputs": [
    {
     "name": "stdout",
     "output_type": "stream",
     "text": [
      "   num_sequels_better  num_sequels_worse  num_franchises  pct_sequels_better  \\\n",
      "0                 391               1186          291724                0.13   \n",
      "\n",
      "   pct_sequels_worse  \n",
      "0               0.41  \n"
     ]
    }
   ],
   "source": [
    "query = \"\"\"\n",
    "WITH movies AS (\n",
    "  SELECT \n",
    "    tb.tconst,\n",
    "    tb.primary_title,\n",
    "    tr.average_rating\n",
    "  FROM `gothic-well-464310-i6.imdb.title_basics` AS tb\n",
    "  JOIN `gothic-well-464310-i6.imdb.title_ratings` AS tr\n",
    "    ON tb.tconst = tr.tconst\n",
    "  WHERE tb.title_type = 'movie'\n",
    "),\n",
    "franchises AS (\n",
    "  SELECT\n",
    "    m.*,\n",
    "    -- 简单判断：片名里带 2 或 II 视为续集，否则视为原作\n",
    "    IF(\n",
    "      REGEXP_CONTAINS(m.primary_title, r'(?i)(?:\\\\b2\\\\b|II)'),\n",
    "      'sequel',\n",
    "      'original'\n",
    "    ) AS is_sequel,\n",
    "    -- 抽取基础片名（去掉 “: 2”、\" II\" 等后缀）\n",
    "    IF(\n",
    "      REGEXP_CONTAINS(m.primary_title, r'(?i)^(.*?)(?:(?:[: ](?:\\\\b[2-9]\\\\b|I{2,}))$)'),\n",
    "      REGEXP_EXTRACT(m.primary_title, r'(?i)^(.*?)(?:(?:[: ](?:\\\\b[2-9]\\\\b|I{2,}))$)'),\n",
    "      m.primary_title\n",
    "    ) AS base_title\n",
    "  FROM movies AS m\n",
    "),\n",
    "stats AS (\n",
    "  SELECT\n",
    "    base_title,\n",
    "    MAX(CASE WHEN is_sequel = 'original' THEN average_rating END) AS orig_rating,\n",
    "    AVG(CASE WHEN is_sequel = 'sequel'  THEN average_rating END) AS seq_avg_rating\n",
    "  FROM franchises\n",
    "  GROUP BY base_title\n",
    ")\n",
    "SELECT\n",
    "  COUNTIF(seq_avg_rating > orig_rating)                           AS num_sequels_better,\n",
    "  COUNTIF(seq_avg_rating <= orig_rating)                          AS num_sequels_worse,\n",
    "  COUNT(*)                                                        AS num_franchises,\n",
    "  ROUND(COUNTIF(seq_avg_rating > orig_rating)/COUNT(*)*100, 2)   AS pct_sequels_better,\n",
    "  ROUND(COUNTIF(seq_avg_rating <= orig_rating)/COUNT(*)*100, 2)  AS pct_sequels_worse\n",
    "FROM stats;\n",
    "\"\"\"\n",
    "\n",
    "df = client.query(query).to_dataframe()\n",
    "print(df)"
   ]
  },
  {
   "cell_type": "code",
   "execution_count": 132,
   "id": "ee0ddafa-ef4d-4855-a4ad-229de6cbd479",
   "metadata": {},
   "outputs": [
    {
     "name": "stdout",
     "output_type": "stream",
     "text": [
      "总电影系列数: 291724\n",
      "续集表现更好: 391\n",
      "续集表现更差: 1186\n",
      "续集表现持平: 290147\n"
     ]
    }
   ],
   "source": [
    "row = df.iloc[0]\n",
    "\n",
    "# 计算持平的系列数\n",
    "num_better   = int(row[\"num_sequels_better\"])\n",
    "num_worse    = int(row[\"num_sequels_worse\"])\n",
    "num_total    = int(row[\"num_franchises\"])\n",
    "num_equal    = num_total - num_better - num_worse\n",
    "\n",
    "# 输出结果\n",
    "print(f\"总电影系列数: {num_total}\")\n",
    "print(f\"续集表现更好: {num_better}\")\n",
    "print(f\"续集表现更差: {num_worse}\")\n",
    "print(f\"续集表现持平: {num_equal}\")"
   ]
  },
  {
   "cell_type": "markdown",
   "id": "abf5111e-ddeb-4b14-b461-37d45d24b5ae",
   "metadata": {},
   "source": [
    "Which franchises have the highest average ratings across their movies?"
   ]
  },
  {
   "cell_type": "code",
   "execution_count": 133,
   "id": "eb4cec1c-7333-4f74-9bf8-ce6708ec87d3",
   "metadata": {},
   "outputs": [
    {
     "name": "stdout",
     "output_type": "stream",
     "text": [
      "平均评分最高的前 10 个电影系列：\n",
      "                               series_name  avg_series_rating  num_movies\n",
      "0                              Chauranghee               9.40           2\n",
      "1                           Arctic Odyssey               9.40           2\n",
      "2                   Christy Canyon X-Posed               9.37           3\n",
      "3                         Donde Tú Quieras               9.25           2\n",
      "4                      The Wonderful Digby               9.25           2\n",
      "5                                 Concerto               9.20           2\n",
      "6                                    Parto               9.17           3\n",
      "7  Under the Radar: The Mike Edmonds Story               9.10           2\n",
      "8                         Food for Thought               9.10           2\n",
      "9                                Ephemeral               9.10           2\n"
     ]
    }
   ],
   "source": [
    "query = \"\"\"\n",
    "WITH movies AS (\n",
    "  SELECT\n",
    "    tb.tconst,\n",
    "    tb.primary_title,\n",
    "    tr.average_rating\n",
    "  FROM `gothic-well-464310-i6.imdb.title_basics` AS tb\n",
    "  JOIN `gothic-well-464310-i6.imdb.title_ratings` AS tr\n",
    "    ON tb.tconst = tr.tconst\n",
    "  WHERE tb.title_type = 'movie'\n",
    "),\n",
    "franchises AS (\n",
    "  SELECT\n",
    "    m.*,\n",
    "    -- 判断是否为续集\n",
    "    IF(\n",
    "      REGEXP_CONTAINS(m.primary_title, r'(?i)(?:\\\\b2\\\\b|II|III|IV|V)'),\n",
    "      'sequel',\n",
    "      'original'\n",
    "    ) AS is_sequel,\n",
    "    -- 提取系列基础名称（去掉 “ 2”、“ II”等）\n",
    "    IF(\n",
    "      REGEXP_CONTAINS(m.primary_title, r'(?i)^(.*?)(?:[: ](?:\\\\b[2-9]\\\\b|I{2,}))$'),\n",
    "      REGEXP_EXTRACT(m.primary_title, r'(?i)^(.*?)(?:(?:[: ](?:\\\\b[2-9]\\\\b|I{2,}))$)'),\n",
    "      m.primary_title\n",
    "    ) AS series_name\n",
    "  FROM movies AS m\n",
    "),\n",
    "series_stats AS (\n",
    "  SELECT\n",
    "    series_name,\n",
    "    ROUND(AVG(average_rating), 2) AS avg_series_rating,\n",
    "    COUNT(*)                   AS num_movies\n",
    "  FROM franchises\n",
    "  GROUP BY series_name\n",
    "  HAVING num_movies > 1         -- 只看至少包含两个电影的系列\n",
    ")\n",
    "SELECT\n",
    "  series_name,\n",
    "  avg_series_rating,\n",
    "  num_movies\n",
    "FROM series_stats\n",
    "ORDER BY avg_series_rating DESC\n",
    "LIMIT 10\n",
    "\"\"\"\n",
    "\n",
    "# 执行查询并转为 DataFrame\n",
    "df_top_series = client.query(query).to_dataframe()\n",
    "\n",
    "# 打印结果\n",
    "print(\"平均评分最高的前 10 个电影系列：\")\n",
    "print(df_top_series)"
   ]
  },
  {
   "cell_type": "markdown",
   "id": "5d4affd8-ce23-4e5d-b88c-3ac91408bd86",
   "metadata": {},
   "source": [
    "Career Trajectory of Artists"
   ]
  },
  {
   "cell_type": "markdown",
   "id": "b1be5e3c-c2b4-4b20-8541-63d90f155a1a",
   "metadata": {},
   "source": [
    "How does an actor’s average movie rating evolve throughout their career?"
   ]
  },
  {
   "cell_type": "code",
   "execution_count": 136,
   "id": "adc6cc64-3a01-466c-ba77-0a0475c0da11",
   "metadata": {},
   "outputs": [
    {
     "name": "stdout",
     "output_type": "stream",
     "text": [
      "    year  avg_rating  film_count\n",
      "0   1991        4.50           1\n",
      "1   1992        5.40           1\n",
      "2   1993        7.50           2\n",
      "3   1995        6.73           3\n",
      "4   1996        6.70           2\n",
      "5   1997        7.90           1\n",
      "6   1998        6.43           3\n",
      "7   2000        6.60           1\n",
      "8   2001        5.50           1\n",
      "9   2002        7.80           2\n",
      "10  2004        7.50           1\n",
      "11  2006        8.25           2\n",
      "12  2008        7.15           2\n",
      "13  2010        8.20           3\n",
      "14  2011        6.50           1\n",
      "15  2012        8.50           1\n",
      "16  2013        7.70           2\n",
      "17  2015        8.00           1\n",
      "18  2019        7.50           2\n",
      "19  2021        7.20           1\n",
      "20  2023        7.60           1\n"
     ]
    }
   ],
   "source": [
    "query = \"\"\"\n",
    "SELECT\n",
    "  SAFE_CAST(tb.start_year AS INT64) AS year,\n",
    "  ROUND(AVG(tr.average_rating), 2)   AS avg_rating,\n",
    "  COUNT(*)                           AS film_count\n",
    "FROM `gothic-well-464310-i6.imdb.title_principals` AS tp\n",
    "JOIN `gothic-well-464310-i6.imdb.name_basics`    AS nb\n",
    "  ON tp.nconst = nb.nconst\n",
    "JOIN `gothic-well-464310-i6.imdb.title_basics`   AS tb\n",
    "  ON tp.tconst = tb.tconst\n",
    "JOIN `gothic-well-464310-i6.imdb.title_ratings`  AS tr\n",
    "  ON tb.tconst = tr.tconst\n",
    "WHERE\n",
    "  tp.category    IN ('actor','actress')\n",
    "  AND nb.primary_name = 'Leonardo DiCaprio'\n",
    "  AND tb.title_type   = 'movie'\n",
    "  AND SAFE_CAST(tb.start_year AS INT64) IS NOT NULL\n",
    "GROUP BY\n",
    "  year\n",
    "ORDER BY\n",
    "  year\n",
    "\"\"\"\n",
    "df = client.query(query).to_dataframe()\n",
    "print(df)"
   ]
  },
  {
   "cell_type": "code",
   "execution_count": 138,
   "id": "6f52bbb5-b08f-44a5-9d6c-ae839a457d43",
   "metadata": {},
   "outputs": [
    {
     "data": {
      "image/png": "[encoded data removed]",
      "text/plain": [
       "<Figure size 800x400 with 1 Axes>"
      ]
     },
     "metadata": {},
     "output_type": "display_data"
    }
   ],
   "source": [
    "plt.figure(figsize=(8, 4))\n",
    "plt.plot(df['year'], df['avg_rating'], marker='o')\n",
    "plt.title(f\"{ACTOR_NAME} Career Develop\")\n",
    "plt.xlabel('Year')\n",
    "plt.ylabel('Avg Rating')\n",
    "plt.grid(True)\n",
    "plt.tight_layout()\n",
    "plt.show()"
   ]
  },
  {
   "cell_type": "markdown",
   "id": "b8a96f87-9189-4814-877e-cf011bbfe4fb",
   "metadata": {},
   "source": [
    "Which directors improved their ratings over the years?"
   ]
  },
  {
   "cell_type": "code",
   "execution_count": 139,
   "id": "80b75eeb-902f-464c-9240-c16b2f462cee",
   "metadata": {},
   "outputs": [
    {
     "name": "stdout",
     "output_type": "stream",
     "text": [
      "评分随着时间提升最明显的前 10 位导演：\n",
      "           director_name  first_rating  last_rating  rating_improvement\n",
      "0      Aleksey Panteleev           1.2          9.4                 8.2\n",
      "1          Jastis Arimba           1.2          9.2                 8.0\n",
      "2        Vitaliy Versace           1.4          9.1                 7.7\n",
      "3            Jojo George           1.5          9.2                 7.7\n",
      "4  R. Christian Anderson           1.6          9.0                 7.4\n",
      "5          Hristos Godas           1.0          8.4                 7.4\n",
      "6      Michael A. Calace           1.6          8.9                 7.3\n",
      "7         Adebayo Tijani           1.5          8.7                 7.2\n",
      "8          Matey Genchev           1.0          8.0                 7.0\n",
      "9         Michael Merino           3.1         10.0                 6.9\n"
     ]
    }
   ],
   "source": [
    "query = \"\"\"\n",
    "WITH dir_movies AS (\n",
    "  SELECT\n",
    "    d AS director_id,\n",
    "    SAFE_CAST(tb.start_year AS INT64) AS year,\n",
    "    tr.average_rating               AS rating\n",
    "  FROM `gothic-well-464310-i6.imdb.title_crew` AS tc\n",
    "  CROSS JOIN UNNEST(SPLIT(tc.directors, ',')) AS d\n",
    "  JOIN `gothic-well-464310-i6.imdb.title_basics` AS tb\n",
    "    ON tc.tconst = tb.tconst\n",
    "  JOIN `gothic-well-464310-i6.imdb.title_ratings` AS tr\n",
    "    ON tc.tconst = tr.tconst\n",
    "  WHERE\n",
    "    tb.title_type = 'movie'\n",
    "    AND SAFE_CAST(tb.start_year AS INT64) IS NOT NULL\n",
    "),\n",
    "dir_stats AS (\n",
    "  SELECT\n",
    "    director_id,\n",
    "    (ARRAY_AGG(STRUCT(year, rating) ORDER BY year ASC LIMIT 1))[OFFSET(0)].rating AS first_rating,\n",
    "    (ARRAY_AGG(STRUCT(year, rating) ORDER BY year DESC LIMIT 1))[OFFSET(0)].rating AS last_rating\n",
    "  FROM dir_movies\n",
    "  GROUP BY director_id\n",
    ")\n",
    "SELECT\n",
    "  nb.primary_name          AS director_name,\n",
    "  ROUND(ds.first_rating,2) AS first_rating,\n",
    "  ROUND(ds.last_rating,2)  AS last_rating,\n",
    "  ROUND(ds.last_rating - ds.first_rating,2) AS rating_improvement\n",
    "FROM dir_stats AS ds\n",
    "JOIN `gothic-well-464310-i6.imdb.name_basics` AS nb\n",
    "  ON ds.director_id = nb.nconst\n",
    "WHERE ds.last_rating > ds.first_rating\n",
    "ORDER BY rating_improvement DESC\n",
    "LIMIT 10\n",
    "\"\"\"\n",
    "\n",
    "df = client.query(query).to_dataframe()\n",
    "print(\"评分随着时间提升最明显的前 10 位导演：\")\n",
    "print(df)"
   ]
  }
 ],
 "metadata": {
  "kernelspec": {
   "display_name": "Python 3 (ipykernel)",
   "language": "python",
   "name": "python3"
  },
  "language_info": {
   "codemirror_mode": {
    "name": "ipython",
    "version": 3
   },
   "file_extension": ".py",
   "mimetype": "text/x-python",
   "name": "python",
   "nbconvert_exporter": "python",
   "pygments_lexer": "ipython3",
   "version": "3.9.21"
  }
 },
 "nbformat": 4,
 "nbformat_minor": 5
}
